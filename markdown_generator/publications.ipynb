{
 "cells": [
  {
   "cell_type": "markdown",
   "metadata": {
    "deletable": true,
    "editable": true
   },
   "source": [
    "# Publications markdown generator for academicpages\n",
    "\n",
    "Takes a TSV of publications with metadata and converts them for use with [academicpages.github.io](academicpages.github.io). This is an interactive Jupyter notebook ([see more info here](http://jupyter-notebook-beginner-guide.readthedocs.io/en/latest/what_is_jupyter.html)). The core python code is also in `publications.py`. Run either from the `markdown_generator` folder after replacing `publications.tsv` with one containing your data.\n",
    "\n",
    "TODO: Make this work with BibTex and other databases of citations, rather than Stuart's non-standard TSV format and citation style.\n"
   ]
  },
  {
   "cell_type": "markdown",
   "metadata": {},
   "source": [
    "## Data format\n",
    "\n",
    "The TSV needs to have the following columns: pub_date, title, venue, excerpt, citation, site_url, and paper_url, with a header at the top. \n",
    "\n",
    "- `excerpt` and `paper_url` can be blank, but the others must have values. \n",
    "- `pub_date` must be formatted as YYYY-MM-DD.\n",
    "- `url_slug` will be the descriptive part of the .md file and the permalink URL for the page about the paper. The .md file will be `YYYY-MM-DD-[url_slug].md` and the permalink will be `https://[yourdomain]/publications/YYYY-MM-DD-[url_slug]`\n",
    "\n",
    "This is how the raw file looks (it doesn't look pretty, use a spreadsheet or other program to edit and create)."
   ]
  },
  {
   "cell_type": "code",
   "execution_count": 60,
   "metadata": {
    "collapsed": false,
    "ExecuteTime": {
     "end_time": "2024-12-26T23:33:07.426638Z",
     "start_time": "2024-12-26T23:33:07.282516Z"
    }
   },
   "outputs": [
    {
     "name": "stdout",
     "output_type": "stream",
     "text": [
      "pub_date\ttitle\tvenue\texcerpt\tpaper_url\tslides_url\ttype\r\n",
      "2022\tMental health and wellbeing during the COVID-19 period in Australia ANU Centre for Social Research and Methods\t\t\thttps://apo.org.au/node/318500\t\treport\r\n",
      "2021\tThe wellbeing of Australia�s children\t\t\thttps://assets-us-01.kc-usercontent.com/99f113b4-e5f7-00d2-23c0-c83ca2e4cfa2/e0b64280-dd99-4237-9c69-eaebc2ff3ce7/Australian-Childrens-Wellbeing-Index-Report.pdf\t\treport\r\n",
      "2022\tWellbeing outcomes in Australia as lockdowns ease and cases increase�August 2022\t\t\thttps://apo.org.au/node/319629\t\treport\r\n",
      "2022\tThe relationship between COVID-19 policies and subjective wellbeing�August 2022 ANU Centre for Social Research and Methods\t\t\thttps://scholar.google.com/scholar?cluster=2747851349458022468&hl=en&oi=scholarr\t\treport\r\n",
      "2022\tMental health and wellbeing during the COVID-19 period in Australia\t\t\thttps://csrm.cass.anu.edu.au/sites/default/files/docs/2022/7/Mental_health_and_wellbeing_during_the_COVID-19_period.pdf\t\treport\r\n",
      "2020\tGender insights in the Solomon Islands: Findings from a two-province study using the Individual Deprivation Measure\t\t\thttps://scholar.google.com/scholar?cluster=5316405056839110626&hl=en&oi=scholarr\t\treport\r\n",
      "2024\tPolicy learning for many outcomes of interest: Combining optimal policy trees with multi-objective bayesian optimisation\tComputational Economics\tThis explores the use of interpretable tree models with multi-objective Bayesian optimisation to explore policy eligibility trade-offs.\thttps://doi.org/10.1007/s10614-024-10722-1\t\tarticle\r\n",
      "2021\t\"Guidance note: Equality Insights and individual-level, gender-sensitive measurement of multidimensional poverty and inequality\"\t\t\thttps://scholar.google.com/scholar?cluster=5395344983629044437&hl=en&oi=scholarr\t\treport\r\n",
      "2022\tVariation in policy response to COVID-19 across Australian states and territories\t\t\thttps://www.bsg.ox.ac.uk/sites/default/files/2022-06/BSG-WP-046-2022.pdf\t\treport\r\n",
      "2023\tFairness Implications of Heterogeneous Treatment Effect Estimation with Machine Learning Methods in Policy-making\tarXiv preprint arXiv:2309.00805\t\thttps://arxiv.org/pdf/2309.00805\t\tpreprint\r\n",
      "2024\tTransparency challenges in policy evaluation with causal machine learning: improving usability and accountability\tData & Policy\t\"This discusses issues around transparency when using causal forest models. It covers both the traditional concerns in machine learning around accountability around letting black-box models make decisions that affect people's lives, and also the need for transparency so decision-makers can actually understand the insights in the causal forest model. It argues that given models are largely not making decisions directly, the greater concern is that models are transparent enough the be usable. It discusses some techniques that could be used to address transparency issues.\"\thttps://doi.org/10.1017/dap.2024.35\t\tarticle\r\n",
      "2024\tCausal machine learning in public policy evaluation--an application to the conditioning of cash transfers in Morocco\tarXiv preprint arXiv:2401.07075\t\thttps://arxiv.org/pdf/2401.07075\t\tpreprint\r\n",
      "2024\tHow do applied researchers use the Causal Forest? A methodological review of a method\tarXiv preprint arXiv:2404.13356\t\thttps://arxiv.org/pdf/2404.13356\t\tpreprint\r\n",
      "2024\tDistilling interpretable causal trees from causal forests\tarXiv preprint arXiv:2408.01023\t\thttps://arxiv.org/pdf/2408.01023\t\tpreprint\r\n",
      "2023\tProcess evaluation of the Justice Housing Program\t\t\thttps://www.researchgate.net/profile/Edgar-Liu-3/publication/377239656_Process_evaluation_of_the_Justice_Housing_Program/links/659cd3a32468df72d3044426/Process-evaluation-of-the-Justice-Housing-Program.pdf\t\treport"
     ]
    }
   ],
   "source": [
    "!cat publications.tsv"
   ]
  },
  {
   "cell_type": "markdown",
   "metadata": {},
   "source": [
    "## Import pandas\n",
    "\n",
    "We are using the very handy pandas library for dataframes."
   ]
  },
  {
   "cell_type": "code",
   "execution_count": 61,
   "metadata": {
    "collapsed": true,
    "deletable": true,
    "editable": true,
    "ExecuteTime": {
     "end_time": "2024-12-26T23:33:07.442617Z",
     "start_time": "2024-12-26T23:33:07.428656Z"
    }
   },
   "outputs": [],
   "source": [
    "import pandas as pd"
   ]
  },
  {
   "cell_type": "markdown",
   "metadata": {},
   "source": [
    "## Import TSV\n",
    "\n",
    "Pandas makes this easy with the read_csv function. We are using a TSV, so we specify the separator as a tab, or `\\t`.\n",
    "\n",
    "I found it important to put this data in a tab-separated values format, because there are a lot of commas in this kind of data and comma-separated values can get messed up. However, you can modify the import statement, as pandas also has read_excel(), read_json(), and others."
   ]
  },
  {
   "cell_type": "code",
   "execution_count": 62,
   "metadata": {
    "collapsed": false,
    "deletable": true,
    "editable": true,
    "ExecuteTime": {
     "end_time": "2024-12-26T23:33:07.446936Z",
     "start_time": "2024-12-26T23:33:07.433270Z"
    }
   },
   "outputs": [
    {
     "data": {
      "text/plain": "    pub_date                                              title  \\\n0       2022  Mental health and wellbeing during the COVID-1...   \n1       2021              The wellbeing of Australia’s children   \n2       2022  Wellbeing outcomes in Australia as lockdowns e...   \n3       2022  The relationship between COVID-19 policies and...   \n4       2022  Mental health and wellbeing during the COVID-1...   \n5       2020  Gender insights in the Solomon Islands: Findin...   \n6       2024  Policy learning for many outcomes of interest:...   \n7       2021  Guidance note: Equality Insights and individua...   \n8       2022  Variation in policy response to COVID-19 acros...   \n9       2023  Fairness Implications of Heterogeneous Treatme...   \n10      2024  Transparency challenges in policy evaluation w...   \n11      2024  Causal machine learning in public policy evalu...   \n12      2024  How do applied researchers use the Causal Fore...   \n13      2024  Distilling interpretable causal trees from cau...   \n14      2023  Process evaluation of the Justice Housing Program   \n\n                                              authors  \\\n0   Biddle, Nicholas; Gray, Matthew; Rehill, Patri...   \n1   Noble, Kristy; Rehill, Patrick; Sollis, Kate; ...   \n2   Biddle, Nicholas; Edwards, Ben; Gray, Matthew;...   \n3   Biddle, Nicholas; Edwards, Ben; Rehill, Patrick;    \n4   Biddle, Nicholas; Gray, Matthew; Rehill, Patri...   \n5   Fisk, Kylie; McInerney, Carol; Rehill, Patrick...   \n6                 Rehill, Patrick; Biddle, Nicholas;    \n7   Crawford, Joanne; Fisk, Kylie; Pradela, Joanna...   \n8   Edwards, Ben; Barnes, Roy; Rehill, Patrick; El...   \n9                 Rehill, Patrick; Biddle, Nicholas;    \n10                Rehill, Patrick; Biddle, Nicholas;    \n11                Rehill, Patrick; Biddle, Nicholas;    \n12                                  Rehill, Patrick;    \n13                                  Rehill, Patrick;    \n14  Taylor, Helen; Bartels, Lorana; Rehill, Patric...   \n\n                                                venue  \\\n0   ANU Centre for Social Research and Methods wor...   \n1   Australian Research Alliance for Children and ...   \n2   ANU Centre for Social Research and Methods wor...   \n3   ANU Centre for Social Research and Methods wor...   \n4   ANU Centre for Social Research and Methods wor...   \n5             International Womens Development Agency   \n6                             Computational Economics   \n7             International Womens Development Agency   \n8   Oxford COVID Government Response Tracker (OxCGRT)   \n9                     arXiv preprint arXiv:2309.00805   \n10                                      Data & Policy   \n11                    arXiv preprint arXiv:2401.07075   \n12                    arXiv preprint arXiv:2404.13356   \n13                    arXiv preprint arXiv:2408.01023   \n14  ANU Centre for Social Research and Methods wor...   \n\n                                              excerpt  \\\n0                                                 NaN   \n1                                                 NaN   \n2                                                 NaN   \n3                                                 NaN   \n4                                                 NaN   \n5                                                 NaN   \n6   This explores the use of interpretable tree mo...   \n7                                                 NaN   \n8                                                 NaN   \n9                                                 NaN   \n10  This discusses issues around transparency when...   \n11                                                NaN   \n12                                                NaN   \n13                                                NaN   \n14                                                NaN   \n\n                                            paper_url  slides_url      type  \\\n0                      https://apo.org.au/node/318500         NaN    report   \n1   https://assets-us-01.kc-usercontent.com/99f113...         NaN    report   \n2                      https://apo.org.au/node/319629         NaN    report   \n3   https://scholar.google.com/scholar?cluster=274...         NaN    report   \n4   https://csrm.cass.anu.edu.au/sites/default/fil...         NaN    report   \n5   https://scholar.google.com/scholar?cluster=531...         NaN    report   \n6          https://doi.org/10.1007/s10614-024-10722-1         NaN   article   \n7   https://scholar.google.com/scholar?cluster=539...         NaN    report   \n8   https://www.bsg.ox.ac.uk/sites/default/files/2...         NaN    report   \n9                    https://arxiv.org/pdf/2309.00805         NaN  preprint   \n10                https://doi.org/10.1017/dap.2024.35         NaN   article   \n11                   https://arxiv.org/pdf/2401.07075         NaN  preprint   \n12                   https://arxiv.org/pdf/2404.13356         NaN  preprint   \n13                   https://arxiv.org/pdf/2408.01023         NaN  preprint   \n14  https://www.researchgate.net/profile/Edgar-Liu...         NaN    report   \n\n                                             url_slug  \\\n0                              apo.org.au/node/318500   \n1   assets-us-01.kc-usercontent.com/99f113b4-e5f7-...   \n2                              apo.org.au/node/319629   \n3   scholar.google.com/scholar?cluster=27478513494...   \n4   csrm.cass.anu.edu.au/sites/default/files/docs/...   \n5   scholar.google.com/scholar?cluster=53164050568...   \n6                  doi.org/10.1007/s10614-024-10722-1   \n7   scholar.google.com/scholar?cluster=53953449836...   \n8   bsg.ox.ac.uk/sites/default/files/2022-06/BSG-W...   \n9                            arxiv.org/pdf/2309.00805   \n10                        doi.org/10.1017/dap.2024.35   \n11                           arxiv.org/pdf/2401.07075   \n12                           arxiv.org/pdf/2404.13356   \n13                           arxiv.org/pdf/2408.01023   \n14  researchgate.net/profile/Edgar-Liu-3/publicati...   \n\n                          id  \n0         Biddle_Mental_2022  \n1       Noble_wellbeing_2021  \n2      Biddle_Wellbeing_2022  \n3   Biddle_relationship_2022  \n4         Biddle_Mental_2022  \n5           Fisk_Gender_2020  \n6         Rehill_Policy_2024  \n7     Crawford_Guidance_2021  \n8     Edwards_Variation_2022  \n9       Rehill_Fairness_2023  \n10  Rehill_Transparency_2024  \n11        Rehill_Causal_2024  \n12           Rehill_How_2024  \n13    Rehill_Distilling_2024  \n14       Taylor_Process_2023  ",
      "text/html": "<div>\n<style scoped>\n    .dataframe tbody tr th:only-of-type {\n        vertical-align: middle;\n    }\n\n    .dataframe tbody tr th {\n        vertical-align: top;\n    }\n\n    .dataframe thead th {\n        text-align: right;\n    }\n</style>\n<table border=\"1\" class=\"dataframe\">\n  <thead>\n    <tr style=\"text-align: right;\">\n      <th></th>\n      <th>pub_date</th>\n      <th>title</th>\n      <th>authors</th>\n      <th>venue</th>\n      <th>excerpt</th>\n      <th>paper_url</th>\n      <th>slides_url</th>\n      <th>type</th>\n      <th>url_slug</th>\n      <th>id</th>\n    </tr>\n  </thead>\n  <tbody>\n    <tr>\n      <th>0</th>\n      <td>2022</td>\n      <td>Mental health and wellbeing during the COVID-1...</td>\n      <td>Biddle, Nicholas; Gray, Matthew; Rehill, Patri...</td>\n      <td>ANU Centre for Social Research and Methods wor...</td>\n      <td>NaN</td>\n      <td>https://apo.org.au/node/318500</td>\n      <td>NaN</td>\n      <td>report</td>\n      <td>apo.org.au/node/318500</td>\n      <td>Biddle_Mental_2022</td>\n    </tr>\n    <tr>\n      <th>1</th>\n      <td>2021</td>\n      <td>The wellbeing of Australia’s children</td>\n      <td>Noble, Kristy; Rehill, Patrick; Sollis, Kate; ...</td>\n      <td>Australian Research Alliance for Children and ...</td>\n      <td>NaN</td>\n      <td>https://assets-us-01.kc-usercontent.com/99f113...</td>\n      <td>NaN</td>\n      <td>report</td>\n      <td>assets-us-01.kc-usercontent.com/99f113b4-e5f7-...</td>\n      <td>Noble_wellbeing_2021</td>\n    </tr>\n    <tr>\n      <th>2</th>\n      <td>2022</td>\n      <td>Wellbeing outcomes in Australia as lockdowns e...</td>\n      <td>Biddle, Nicholas; Edwards, Ben; Gray, Matthew;...</td>\n      <td>ANU Centre for Social Research and Methods wor...</td>\n      <td>NaN</td>\n      <td>https://apo.org.au/node/319629</td>\n      <td>NaN</td>\n      <td>report</td>\n      <td>apo.org.au/node/319629</td>\n      <td>Biddle_Wellbeing_2022</td>\n    </tr>\n    <tr>\n      <th>3</th>\n      <td>2022</td>\n      <td>The relationship between COVID-19 policies and...</td>\n      <td>Biddle, Nicholas; Edwards, Ben; Rehill, Patrick;</td>\n      <td>ANU Centre for Social Research and Methods wor...</td>\n      <td>NaN</td>\n      <td>https://scholar.google.com/scholar?cluster=274...</td>\n      <td>NaN</td>\n      <td>report</td>\n      <td>scholar.google.com/scholar?cluster=27478513494...</td>\n      <td>Biddle_relationship_2022</td>\n    </tr>\n    <tr>\n      <th>4</th>\n      <td>2022</td>\n      <td>Mental health and wellbeing during the COVID-1...</td>\n      <td>Biddle, Nicholas; Gray, Matthew; Rehill, Patri...</td>\n      <td>ANU Centre for Social Research and Methods wor...</td>\n      <td>NaN</td>\n      <td>https://csrm.cass.anu.edu.au/sites/default/fil...</td>\n      <td>NaN</td>\n      <td>report</td>\n      <td>csrm.cass.anu.edu.au/sites/default/files/docs/...</td>\n      <td>Biddle_Mental_2022</td>\n    </tr>\n    <tr>\n      <th>5</th>\n      <td>2020</td>\n      <td>Gender insights in the Solomon Islands: Findin...</td>\n      <td>Fisk, Kylie; McInerney, Carol; Rehill, Patrick...</td>\n      <td>International Womens Development Agency</td>\n      <td>NaN</td>\n      <td>https://scholar.google.com/scholar?cluster=531...</td>\n      <td>NaN</td>\n      <td>report</td>\n      <td>scholar.google.com/scholar?cluster=53164050568...</td>\n      <td>Fisk_Gender_2020</td>\n    </tr>\n    <tr>\n      <th>6</th>\n      <td>2024</td>\n      <td>Policy learning for many outcomes of interest:...</td>\n      <td>Rehill, Patrick; Biddle, Nicholas;</td>\n      <td>Computational Economics</td>\n      <td>This explores the use of interpretable tree mo...</td>\n      <td>https://doi.org/10.1007/s10614-024-10722-1</td>\n      <td>NaN</td>\n      <td>article</td>\n      <td>doi.org/10.1007/s10614-024-10722-1</td>\n      <td>Rehill_Policy_2024</td>\n    </tr>\n    <tr>\n      <th>7</th>\n      <td>2021</td>\n      <td>Guidance note: Equality Insights and individua...</td>\n      <td>Crawford, Joanne; Fisk, Kylie; Pradela, Joanna...</td>\n      <td>International Womens Development Agency</td>\n      <td>NaN</td>\n      <td>https://scholar.google.com/scholar?cluster=539...</td>\n      <td>NaN</td>\n      <td>report</td>\n      <td>scholar.google.com/scholar?cluster=53953449836...</td>\n      <td>Crawford_Guidance_2021</td>\n    </tr>\n    <tr>\n      <th>8</th>\n      <td>2022</td>\n      <td>Variation in policy response to COVID-19 acros...</td>\n      <td>Edwards, Ben; Barnes, Roy; Rehill, Patrick; El...</td>\n      <td>Oxford COVID Government Response Tracker (OxCGRT)</td>\n      <td>NaN</td>\n      <td>https://www.bsg.ox.ac.uk/sites/default/files/2...</td>\n      <td>NaN</td>\n      <td>report</td>\n      <td>bsg.ox.ac.uk/sites/default/files/2022-06/BSG-W...</td>\n      <td>Edwards_Variation_2022</td>\n    </tr>\n    <tr>\n      <th>9</th>\n      <td>2023</td>\n      <td>Fairness Implications of Heterogeneous Treatme...</td>\n      <td>Rehill, Patrick; Biddle, Nicholas;</td>\n      <td>arXiv preprint arXiv:2309.00805</td>\n      <td>NaN</td>\n      <td>https://arxiv.org/pdf/2309.00805</td>\n      <td>NaN</td>\n      <td>preprint</td>\n      <td>arxiv.org/pdf/2309.00805</td>\n      <td>Rehill_Fairness_2023</td>\n    </tr>\n    <tr>\n      <th>10</th>\n      <td>2024</td>\n      <td>Transparency challenges in policy evaluation w...</td>\n      <td>Rehill, Patrick; Biddle, Nicholas;</td>\n      <td>Data &amp; Policy</td>\n      <td>This discusses issues around transparency when...</td>\n      <td>https://doi.org/10.1017/dap.2024.35</td>\n      <td>NaN</td>\n      <td>article</td>\n      <td>doi.org/10.1017/dap.2024.35</td>\n      <td>Rehill_Transparency_2024</td>\n    </tr>\n    <tr>\n      <th>11</th>\n      <td>2024</td>\n      <td>Causal machine learning in public policy evalu...</td>\n      <td>Rehill, Patrick; Biddle, Nicholas;</td>\n      <td>arXiv preprint arXiv:2401.07075</td>\n      <td>NaN</td>\n      <td>https://arxiv.org/pdf/2401.07075</td>\n      <td>NaN</td>\n      <td>preprint</td>\n      <td>arxiv.org/pdf/2401.07075</td>\n      <td>Rehill_Causal_2024</td>\n    </tr>\n    <tr>\n      <th>12</th>\n      <td>2024</td>\n      <td>How do applied researchers use the Causal Fore...</td>\n      <td>Rehill, Patrick;</td>\n      <td>arXiv preprint arXiv:2404.13356</td>\n      <td>NaN</td>\n      <td>https://arxiv.org/pdf/2404.13356</td>\n      <td>NaN</td>\n      <td>preprint</td>\n      <td>arxiv.org/pdf/2404.13356</td>\n      <td>Rehill_How_2024</td>\n    </tr>\n    <tr>\n      <th>13</th>\n      <td>2024</td>\n      <td>Distilling interpretable causal trees from cau...</td>\n      <td>Rehill, Patrick;</td>\n      <td>arXiv preprint arXiv:2408.01023</td>\n      <td>NaN</td>\n      <td>https://arxiv.org/pdf/2408.01023</td>\n      <td>NaN</td>\n      <td>preprint</td>\n      <td>arxiv.org/pdf/2408.01023</td>\n      <td>Rehill_Distilling_2024</td>\n    </tr>\n    <tr>\n      <th>14</th>\n      <td>2023</td>\n      <td>Process evaluation of the Justice Housing Program</td>\n      <td>Taylor, Helen; Bartels, Lorana; Rehill, Patric...</td>\n      <td>ANU Centre for Social Research and Methods wor...</td>\n      <td>NaN</td>\n      <td>https://www.researchgate.net/profile/Edgar-Liu...</td>\n      <td>NaN</td>\n      <td>report</td>\n      <td>researchgate.net/profile/Edgar-Liu-3/publicati...</td>\n      <td>Taylor_Process_2023</td>\n    </tr>\n  </tbody>\n</table>\n</div>"
     },
     "execution_count": 62,
     "metadata": {},
     "output_type": "execute_result"
    }
   ],
   "source": [
    "publications = pd.read_csv(\"publications.csv\", header=0)\n",
    "\n",
    "def create_id(row):\n",
    "    # Extract the last name of the first author\n",
    "    first_author = row['authors'].split(';')[0].split(',')[0].strip()\n",
    "    \n",
    "    # Find the first word in the title that isn't \"the\" or \"a\"\n",
    "    significant_word = next(word for word in row['title'].split() if word.lower() not in ['the', 'a'])\n",
    "    \n",
    "    # Combine with the year\n",
    "    return f\"{first_author}_{significant_word}_{row['pub_date']}\"\n",
    "\n",
    "publications['id'] = publications.apply(create_id, axis=1)\n",
    "\n",
    "publications\n"
   ]
  },
  {
   "cell_type": "markdown",
   "metadata": {},
   "source": [
    "## Escape special characters\n",
    "\n",
    "YAML is very picky about how it takes a valid string, so we are replacing single and double quotes (and ampersands) with their HTML encoded equivilents. This makes them look not so readable in raw format, but they are parsed and rendered nicely."
   ]
  },
  {
   "cell_type": "code",
   "execution_count": 63,
   "metadata": {
    "collapsed": true,
    "deletable": true,
    "editable": true,
    "ExecuteTime": {
     "end_time": "2024-12-26T23:33:07.453033Z",
     "start_time": "2024-12-26T23:33:07.446032Z"
    }
   },
   "outputs": [],
   "source": [
    "html_escape_table = {\n",
    "    \"&\": \"&amp;\",\n",
    "    '\"': \"&quot;\",\n",
    "    \"'\": \"&apos;\"\n",
    "    }\n",
    "\n",
    "def html_escape(text):\n",
    "    \"\"\"Produce entities within text.\"\"\"\n",
    "    return \"\".join(html_escape_table.get(c,c) for c in text)"
   ]
  },
  {
   "cell_type": "markdown",
   "metadata": {},
   "source": [
    "## Creating the markdown files\n",
    "\n",
    "This is where the heavy lifting is done. This loops through all the rows in the TSV dataframe, then starts to concatentate a big string (```md```) that contains the markdown for each type. It does the YAML metadata first, then does the description for the individual page."
   ]
  },
  {
   "cell_type": "code",
   "execution_count": 64,
   "metadata": {
    "collapsed": false,
    "deletable": true,
    "editable": true,
    "ExecuteTime": {
     "end_time": "2024-12-26T23:33:07.467083Z",
     "start_time": "2024-12-26T23:33:07.451831Z"
    }
   },
   "outputs": [],
   "source": [
    "import os\n",
    "for row, item in publications.iterrows():\n",
    "    \n",
    "    md_filename = str(item.id) + \".md\"\n",
    "    html_filename = str(item.pub_date) + \"-\" + item.url_slug\n",
    "    year = str(item.pub_date)\n",
    "    \n",
    "    ## YAML variables\n",
    "    \n",
    "    md = \"---\\ntitle: \\\"\"   + item.title + '\"\\n'\n",
    "    \n",
    "    md += \"\"\"collection: \"\"\" + item.type\n",
    "    \n",
    "    md += \"\"\"\\npermalink: /publication/\"\"\" + html_filename\n",
    "    \n",
    "    if len(str(item.excerpt)) > 5:\n",
    "        md += \"\\nexcerpt: '\" + html_escape(item.excerpt) + \"'\"\n",
    "    \n",
    "    md += \"\\ndate: \" + str(item.pub_date) \n",
    "    \n",
    "    md += \"\\nvenue: '\" + html_escape(item.venue) + \"'\"\n",
    "    \n",
    "    if len(str(item.slides_url)) > 5:\n",
    "        md += \"\\nslidesurl: '\" + item.slides_url + \"'\"\n",
    "\n",
    "    if len(str(item.paper_url)) > 5:\n",
    "        md += \"\\npaperurl: '\" + item.paper_url + \"'\"\n",
    "    \n",
    "    # md += \"\\ncitation: '\" + html_escape(item.citation) + \"'\"\n",
    "    \n",
    "    md += \"\\n---\"\n",
    "    \n",
    "    ## Markdown description for individual page\n",
    "        \n",
    "    if len(str(item.excerpt)) > 5:\n",
    "        md += \"\\n\" + html_escape(item.excerpt) + \"\\n\"\n",
    "\n",
    "    if len(str(item.slides_url)) > 5:\n",
    "        md += \"\\n[Download slides here](\" + item.slides_url + \")\\n\" \n",
    "\n",
    "    if len(str(item.paper_url)) > 5:\n",
    "        md += \"\\n[Download paper here](\" + item.paper_url + \")\\n\" \n",
    "        \n",
    "    # md += \"\\nRecommended citation: \" + item.citation\n",
    "    \n",
    "    md_filename = os.path.basename(md_filename)\n",
    "       \n",
    "    with open(\"../_publications/\" + md_filename, 'w') as f:\n",
    "        f.write(md)"
   ]
  },
  {
   "cell_type": "markdown",
   "metadata": {},
   "source": [
    "These files are in the publications directory, one directory below where we're working from."
   ]
  },
  {
   "cell_type": "code",
   "execution_count": 65,
   "metadata": {
    "collapsed": false,
    "deletable": true,
    "editable": true,
    "ExecuteTime": {
     "end_time": "2024-12-26T23:33:07.613347Z",
     "start_time": "2024-12-26T23:33:07.457542Z"
    }
   },
   "outputs": [
    {
     "name": "stdout",
     "output_type": "stream",
     "text": [
      "Biddle_Mental_2022.md       Rehill_Causal_2024.md\r\n",
      "Biddle_Wellbeing_2022.md    Rehill_Distilling_2024.md\r\n",
      "Biddle_relationship_2022.md Rehill_Fairness_2023.md\r\n",
      "Crawford_Guidance_2021.md   Rehill_How_2024.md\r\n",
      "Edwards_Variation_2022.md   Rehill_Policy_2024.md\r\n",
      "Fisk_Gender_2020.md         Rehill_Transparency_2024.md\r\n",
      "Noble_wellbeing_2021.md     Taylor_Process_2023.md\r\n"
     ]
    }
   ],
   "source": [
    "!ls ../_publications/"
   ]
  },
  {
   "cell_type": "code",
   "execution_count": 66,
   "metadata": {
    "collapsed": false,
    "deletable": true,
    "editable": true,
    "ExecuteTime": {
     "end_time": "2024-12-26T23:33:07.749069Z",
     "start_time": "2024-12-26T23:33:07.613300Z"
    }
   },
   "outputs": [
    {
     "name": "stdout",
     "output_type": "stream",
     "text": [
      "---\r\n",
      "title: \"Policy learning for many outcomes of interest: Combining optimal policy trees with multi-objective bayesian optimisation\"\r\n",
      "collection: article\r\n",
      "permalink: /publication/2024-doi.org/10.1007/s10614-024-10722-1\r\n",
      "excerpt: 'This explores the use of interpretable tree models with multi-objective Bayesian optimisation to explore policy eligibility trade-offs.'\r\n",
      "date: 2024\r\n",
      "venue: 'Computational Economics'\r\n",
      "paperurl: 'https://doi.org/10.1007/s10614-024-10722-1'\r\n",
      "---\r\n",
      "This explores the use of interpretable tree models with multi-objective Bayesian optimisation to explore policy eligibility trade-offs.\r\n",
      "\r\n",
      "[Download paper here](https://doi.org/10.1007/s10614-024-10722-1)\r\n"
     ]
    }
   ],
   "source": [
    "!cat ../_publications/Rehill_Policy_2024.md"
   ]
  },
  {
   "cell_type": "code",
   "execution_count": 66,
   "metadata": {
    "collapsed": true,
    "deletable": true,
    "editable": true,
    "ExecuteTime": {
     "end_time": "2024-12-26T23:33:07.761289Z",
     "start_time": "2024-12-26T23:33:07.749869Z"
    }
   },
   "outputs": [],
   "source": []
  }
 ],
 "metadata": {
  "kernelspec": {
   "display_name": "Python 3",
   "language": "python",
   "name": "python3"
  },
  "language_info": {
   "codemirror_mode": {
    "name": "ipython",
    "version": 3
   },
   "file_extension": ".py",
   "mimetype": "text/x-python",
   "name": "python",
   "nbconvert_exporter": "python",
   "pygments_lexer": "ipython3",
   "version": "3.6.1"
  }
 },
 "nbformat": 4,
 "nbformat_minor": 0
}
